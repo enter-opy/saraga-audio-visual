{
 "cells": [
  {
   "cell_type": "code",
   "execution_count": 4,
   "id": "ecea7064-1378-49f1-964f-354705879fd0",
   "metadata": {},
   "outputs": [],
   "source": [
    "import os\n",
    "import compiam"
   ]
  },
  {
   "cell_type": "markdown",
   "id": "b95980fd-4abd-41e0-9381-e64f2bdd0692",
   "metadata": {},
   "source": []
  },
  {
   "cell_type": "markdown",
   "id": "30f2edec-a955-405f-8205-5d07621755d9",
   "metadata": {},
   "source": [
    "## 1. Accessing the Saraga Audiovisual Dataset  \n",
    "\n",
    ">Saraga Audiovisual is a dataset that includes diverse renditions of **Carnatic vocal performances**, totaling **42 concerts** and more than **60 hours of music** featuring **Video recordings** for all concerts, enabling a wide range of multimodal analyses and **High-quality human pose estimation data** of musicians."
   ]
  },
  {
   "cell_type": "markdown",
   "id": "a59d8209-0a29-40c1-ad9c-367b3792f829",
   "metadata": {},
   "source": [
    "## Download and Extract Saraga Dataset\n",
    "\n",
    "The Saraga dataset is available on Zenodo. You can download it using the following link:  \n",
    "[Zondo Link](https://zenodo.org/records/15102483)  \n",
    "\n",
    "The dataset is split into multiple parts, each containing specific components:\n",
    "\n",
    "- **`saraga_audio.zip`** – Multi-track audio files along with their corresponding mixture files.\n",
    "- **`saraga_gesture.zip`** – Pose estimation files extracted from videos corresponding to each audio track.\n",
    "- **`saraga_metadata.zip`** – Metadata for all the audio files.\n",
    "- **`saraga_video.zip`** – Videos from three sample concerts. Due to size constraints, only these three concerts are included. For access to the full video collection, contact the dataset providers.\n",
    "\n",
    "### Step 1: Download the Dataset\n",
    "\n",
    "Visit [Zenodo](https://zenodo.org/records/15102483) and manually download the required zip files.\n",
    "\n",
    "Alternatively, you can use `wget` to download the files directly."
   ]
  },
  {
   "cell_type": "code",
   "execution_count": null,
   "id": "cf331d3e-18ff-4721-a0e2-1b5a57ee4aee",
   "metadata": {},
   "outputs": [],
   "source": [
    "!wget -O saraga_audio.zip \"https://zenodo.org/records/15102483/files/saraga_audio.zip\"\n",
    "!wget -O saraga_gesture.zip \"https://zenodo.org/records/15102483/files/saraga_gesture.zip\"\n",
    "!wget -O saraga_metadata.zip \"https://zenodo.org/records/15102483/files/saraga_metadata.zip\"\n",
    "!wget -O saraga_video.zip \"https://zenodo.org/records/15102483/files/saraga_video.zip\""
   ]
  },
  {
   "cell_type": "markdown",
   "id": "55001436-03dd-46c4-a810-2f773e37fe2c",
   "metadata": {},
   "source": [
    "### Step 2: Extract the Dataset\n",
    "\n",
    "Once the files are downloaded, extract them into a common folder.\n",
    "For that we use `zipfile`, python liibrary to deal zip files."
   ]
  },
  {
   "cell_type": "code",
   "execution_count": 8,
   "id": "c4515ec5-2486-4625-b5e6-3de5e1dc35bd",
   "metadata": {},
   "outputs": [],
   "source": [
    "import zipfile"
   ]
  },
  {
   "cell_type": "code",
   "execution_count": 10,
   "id": "f8870eb9-34cc-4168-b4f8-5208fb2f23be",
   "metadata": {},
   "outputs": [],
   "source": [
    "extract_path = \"./saraga_audiovisual\"\n",
    "zip_files = [\"saraga_audio.zip\", \"saraga_gesture.zip\", \"saraga_metadata.zip\", \"saraga_video.zip\"]"
   ]
  },
  {
   "cell_type": "code",
   "execution_count": null,
   "id": "b70d8094-8a4b-48fe-ac00-d13e4f0637aa",
   "metadata": {},
   "outputs": [],
   "source": [
    "for zip_file in zip_files:\n",
    "    with zipfile.ZipFile(zip_file, 'r') as zip_ref:\n",
    "        zip_ref.extractall(extract_path)\n",
    "    print(f\"Extracted {zip_file} to {extract_path}\")"
   ]
  }
 ],
 "metadata": {
  "kernelspec": {
   "display_name": "Python 3 (ipykernel)",
   "language": "python",
   "name": "python3"
  },
  "language_info": {
   "codemirror_mode": {
    "name": "ipython",
    "version": 3
   },
   "file_extension": ".py",
   "mimetype": "text/x-python",
   "name": "python",
   "nbconvert_exporter": "python",
   "pygments_lexer": "ipython3",
   "version": "3.10.0"
  }
 },
 "nbformat": 4,
 "nbformat_minor": 5
}
